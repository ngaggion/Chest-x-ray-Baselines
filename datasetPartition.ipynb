{
 "cells": [
  {
   "cell_type": "code",
   "execution_count": 1,
   "id": "31c6d970-d79c-4e0f-9bfc-3da658e51d31",
   "metadata": {},
   "outputs": [],
   "source": [
    "import pandas as pd\n",
    "import os\n",
    "import numpy as np\n",
    "\n",
    "clinical_path = \"../Chest-xray-landmark-dataset/clinical.csv\"\n",
    "clinical = pd.read_csv(clinical_path)"
   ]
  },
  {
   "cell_type": "markdown",
   "id": "3cc5775b-4465-4dbb-a96e-32677c8bccd5",
   "metadata": {},
   "source": [
    "### Lungs dataset partition"
   ]
  },
  {
   "cell_type": "code",
   "execution_count": 2,
   "id": "03e4600d-f45a-460a-ad37-8041c0f6af00",
   "metadata": {},
   "outputs": [
    {
     "name": "stdout",
     "output_type": "stream",
     "text": [
      "Dataset Padchest Total images: 137 Test Subset: 27\n",
      "Dataset Shenzhen Total images: 390 Test Subset: 78\n",
      "Dataset JSRT Total images: 246 Test Subset: 49\n",
      "Dataset Montgomery Total images: 138 Test Subset: 27\n",
      "\n",
      "Train images: 730\n",
      "Test images: 181\n"
     ]
    }
   ],
   "source": [
    "TEST_SIZE = 0.2\n",
    "TRAIN_IMAGES = []\n",
    "TEST_IMAGES = []\n",
    "\n",
    "subset = clinical[clinical[\"Lung Annotations\"] == True]\n",
    "\n",
    "for dataset in subset['Dataset'].unique():\n",
    "    sub = subset[subset['Dataset'] == dataset]\n",
    "    N = sub.shape[0]\n",
    "    n_test = int(TEST_SIZE * N)\n",
    "    \n",
    "    index = np.arange(N)\n",
    "    np.random.shuffle(index)\n",
    "    \n",
    "    test_indexes = index[:n_test]\n",
    "    train_indexes = index[n_test:]\n",
    "    \n",
    "    train = sub.iloc[train_indexes]\n",
    "    test = sub.iloc[test_indexes]\n",
    "    \n",
    "    for file in train['File'].to_list():\n",
    "        TRAIN_IMAGES.append(file)\n",
    "    \n",
    "    for file in test['File'].to_list():\n",
    "        TEST_IMAGES.append(file)\n",
    "    \n",
    "    print('Dataset', dataset, 'Total images:', N, 'Test Subset:', n_test)\n",
    "\n",
    "\n",
    "print('')\n",
    "\n",
    "print('Train images:', len(TRAIN_IMAGES))\n",
    "print('Test images:', len(TEST_IMAGES))\n",
    "\n",
    "f = open('train_images_lungs.txt','w')\n",
    "for ele in TRAIN_IMAGES:\n",
    "    f.write(ele+ '\\n')\n",
    "f.close()\n",
    "\n",
    "f = open('test_images_lungs.txt','w')\n",
    "for ele in TEST_IMAGES:\n",
    "    f.write(ele+ '\\n')\n",
    "f.close()"
   ]
  },
  {
   "cell_type": "markdown",
   "id": "c831f89e-455b-45e9-a133-3e49c440e72e",
   "metadata": {},
   "source": [
    "### Heart dataset partition"
   ]
  },
  {
   "cell_type": "code",
   "execution_count": 3,
   "id": "01b4f7ee-b8ec-47fc-8a55-1b05fd7c999d",
   "metadata": {},
   "outputs": [
    {
     "name": "stdout",
     "output_type": "stream",
     "text": [
      "Dataset Padchest Total images: 137 Test Subset: 27\n",
      "Dataset JSRT Total images: 246 Test Subset: 49\n",
      "\n",
      "Train images: 307\n",
      "Test images: 76\n"
     ]
    }
   ],
   "source": [
    "TEST_SIZE = 0.2\n",
    "TRAIN_IMAGES = []\n",
    "TEST_IMAGES = []\n",
    "\n",
    "subset = clinical[clinical[\"Heart Annotations\"] == True]\n",
    "\n",
    "for dataset in subset['Dataset'].unique():\n",
    "    sub = subset[subset['Dataset'] == dataset]\n",
    "    N = sub.shape[0]\n",
    "    n_test = int(TEST_SIZE * N)\n",
    "    \n",
    "    index = np.arange(N)\n",
    "    np.random.shuffle(index)\n",
    "    \n",
    "    test_indexes = index[:n_test]\n",
    "    train_indexes = index[n_test:]\n",
    "    \n",
    "    train = sub.iloc[train_indexes]\n",
    "    test = sub.iloc[test_indexes]\n",
    "    \n",
    "    for file in train['File'].to_list():\n",
    "        TRAIN_IMAGES.append(file)\n",
    "    \n",
    "    for file in test['File'].to_list():\n",
    "        TEST_IMAGES.append(file)\n",
    "    \n",
    "    print('Dataset', dataset, 'Total images:', N, 'Test Subset:', n_test)\n",
    "\n",
    "\n",
    "print('')\n",
    "\n",
    "print('Train images:', len(TRAIN_IMAGES))\n",
    "print('Test images:', len(TEST_IMAGES))\n",
    "\n",
    "f = open('train_images_heart.txt','w')\n",
    "for ele in TRAIN_IMAGES:\n",
    "    f.write(ele+'\\n')\n",
    "f.close()\n",
    "\n",
    "f = open('test_images_heart.txt','w')\n",
    "for ele in TEST_IMAGES:\n",
    "    f.write(ele+'\\n')\n",
    "f.close()"
   ]
  },
  {
   "cell_type": "code",
   "execution_count": null,
   "id": "551b7e4a-fc75-4649-a2d5-5f071da805e7",
   "metadata": {},
   "outputs": [],
   "source": []
  }
 ],
 "metadata": {
  "kernelspec": {
   "display_name": "Torch",
   "language": "python",
   "name": "torch"
  },
  "language_info": {
   "codemirror_mode": {
    "name": "ipython",
    "version": 3
   },
   "file_extension": ".py",
   "mimetype": "text/x-python",
   "name": "python",
   "nbconvert_exporter": "python",
   "pygments_lexer": "ipython3",
   "version": "3.9.7"
  }
 },
 "nbformat": 4,
 "nbformat_minor": 5
}
